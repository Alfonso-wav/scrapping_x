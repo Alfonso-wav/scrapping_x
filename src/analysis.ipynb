{
 "cells": [
  {
   "cell_type": "code",
   "execution_count": null,
   "metadata": {},
   "outputs": [],
   "source": [
    "import pandas as pd\n",
    "import seaborn as sns\n",
    "import matplotlib.pyplot as plt\n",
    "import os\n",
    "\n",
    "user = \"insert twitter username here\"\n",
    "\n",
    "csv_path = f\"../data/df_{user}.csv\"\n",
    "\n",
    "df = pd.read_csv(csv_path)\n",
    "\n",
    "# Definir el nombre de la carpeta\n",
    "folder_name = f\"{user}_plots\"\n",
    "\n",
    "# Crear la ruta completa de la carpeta\n",
    "folder_path = \"../assets\"\n",
    "\n",
    "# Si la ruta no existe, la creamos\n",
    "if not os.path.exists(folder_path):\n",
    "    os.makedirs(folder_path)\n",
    "\n",
    "# Ruta completa de la carpeta\n",
    "ruta_completa = os.path.join(folder_path, folder_name)\n",
    "# Crear la carpeta\n",
    "os.makedirs(ruta_completa, exist_ok=True)\n"
   ]
  },
  {
   "cell_type": "code",
   "execution_count": null,
   "metadata": {},
   "outputs": [],
   "source": [
    "# Define a function that creates a histogram for the target column and saves it in .jpeg\n",
    "\n",
    "def get_hist (col):\n",
    "    df_sorted = df.sort_values(by=col)\n",
    "    unq = df_sorted[col].unique()\n",
    "    fig, ax = plt.subplots(figsize=(10, 6))\n",
    "    sns.histplot(data = df_sorted, x = col, bins=len(unq), ax=ax)\n",
    "    bar_centers = [(bar.get_x() + bar.get_width() / 2) for bar in ax.patches]\n",
    "    ax.set_xticks(ticks=bar_centers)\n",
    "    ax.set_xticklabels(unq)\n",
    "    # plt.show()\n",
    "    plt.savefig(f\"../assets/{user}_plots/{col}_histogram.jpeg\")"
   ]
  },
  {
   "cell_type": "code",
   "execution_count": null,
   "metadata": {},
   "outputs": [],
   "source": [
    "get_hist(\"Hour\")"
   ]
  },
  {
   "cell_type": "code",
   "execution_count": null,
   "metadata": {},
   "outputs": [],
   "source": [
    "get_hist(\"Month\")"
   ]
  },
  {
   "cell_type": "code",
   "execution_count": null,
   "metadata": {},
   "outputs": [],
   "source": [
    "get_hist(\"Year\")"
   ]
  },
  {
   "cell_type": "code",
   "execution_count": null,
   "metadata": {},
   "outputs": [],
   "source": [
    "get_hist(\"Day\")"
   ]
  }
 ],
 "metadata": {
  "language_info": {
   "name": "python"
  }
 },
 "nbformat": 4,
 "nbformat_minor": 2
}
