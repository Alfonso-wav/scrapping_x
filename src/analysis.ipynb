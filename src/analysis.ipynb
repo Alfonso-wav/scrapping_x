{
 "cells": [
  {
   "cell_type": "code",
   "execution_count": null,
   "metadata": {},
   "outputs": [],
   "source": [
    "import pandas as pd\n",
    "import seaborn as sns\n",
    "import matplotlib.pyplot as plt\n",
    "import os\n",
    "\n",
    "user = \"insert twitter username here\"\n",
    "\n",
    "csv_path = f\"../data/df_{user}.csv\"\n",
    "\n",
    "df = pd.read_csv(csv_path)\n",
    "\n",
    "# Definir el nombre de la carpeta\n",
    "folder_name = f\"{user}_plots\"\n",
    "\n",
    "# Crear la ruta completa de la carpeta\n",
    "folder_path = \"../assets\"\n",
    "\n",
    "# Si la ruta no existe, la creamos\n",
    "if not os.path.exists(folder_path):\n",
    "    os.makedirs(folder_path)\n",
    "\n",
    "# Ruta completa de la carpeta\n",
    "ruta_completa = os.path.join(folder_path, folder_name)\n",
    "# Crear la carpeta\n",
    "os.makedirs(ruta_completa, exist_ok=True)\n"
   ]
  },
  {
   "cell_type": "code",
   "execution_count": null,
   "metadata": {},
   "outputs": [],
   "source": [
    "df_sorted = df.sort_values(by=\"Hour\")\n",
    "sns.histplot(data = df_sorted, x = \"Hour\", bins=range(23),  discrete=True)\n",
    "plt.xticks(range(25))  \n",
    "plt.show()\n",
    "plt.savefig(f\"../assets/{user}_plots/hour_histogram.png\")"
   ]
  },
  {
   "cell_type": "code",
   "execution_count": null,
   "metadata": {},
   "outputs": [],
   "source": [
    "df_sorted = df.sort_values(by=\"Month\")\n",
    "sns.histplot(data = df_sorted, x = \"Month\")\n",
    "\n",
    "plt.savefig(f\"../assets/{user}_plots/month_histogram.png\")"
   ]
  },
  {
   "cell_type": "code",
   "execution_count": null,
   "metadata": {},
   "outputs": [],
   "source": [
    "df_sorted = df.sort_values(by=\"Day\")\n",
    "sns.histplot(data = df_sorted, x = \"Day\")\n",
    "plt.tight_layout()\n",
    "plt.show()\n",
    "\n",
    "plt.savefig(f\"../assets/{user}_plots/day_histogram.png\")"
   ]
  }
 ],
 "metadata": {
  "language_info": {
   "name": "python"
  }
 },
 "nbformat": 4,
 "nbformat_minor": 2
}
